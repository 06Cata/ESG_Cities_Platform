{
 "cells": [
  {
   "cell_type": "code",
   "execution_count": 3,
   "metadata": {},
   "outputs": [],
   "source": [
    "import pandas as pd\n",
    "import requests\n",
    "import os\n",
    "import re\n",
    "import logging\n",
    "import json\n",
    "# Set up logging\n",
    "logging.basicConfig(filename='error.log', level=logging.ERROR)\n",
    "\n",
    "API_KEY = os.environ.get('cwb_key')\n",
    "DATA_FILE = '氣象局開放資料清單/氣象局開放資料清單.xlsx'\n",
    "Format = 'csv'\n",
    "OUTPUT_DIR = f'data_{Format}'\n",
    "\n",
    "def process_row(row):\n",
    "    data_id = row['資料集代碼']\n",
    "    data_name = row['資料集名稱']\n",
    "    data_tag = row['標籤']\n",
    "    \n",
    "    \n",
    "    # Remove special characters from data name\n",
    "    data_name = re.sub(r'[\\\\/:*?\"<>|]', '', data_name)\n",
    "    \n",
    "    # Make API request and handle errors\n",
    "    try:\n",
    "        response = requests.get(f'https://opendata.cwb.gov.tw/api/v1/rest/datastore/{data_id}?format={Format}&Authorization={API_KEY}')\n",
    "        response.raise_for_status()\n",
    "    except requests.exceptions.RequestException as e:\n",
    "        logging.error(f'Error retrieving data for ID {data_id}: {str(e)}')\n",
    "        return\n",
    "    \n",
    "    # Save data to file\n",
    "    os.makedirs(OUTPUT_DIR, exist_ok=True)\n",
    "    file_path = os.path.join(OUTPUT_DIR, f'({data_tag}) {data_id}_{data_name}.{Format}')\n",
    "    with open(file_path, 'w') as f:\n",
    "        f.write(response.text)\n",
    "\n",
    "def main():\n",
    "    # Read the data file\n",
    "    df = pd.read_excel(DATA_FILE)\n",
    "    \n",
    "    # Process each row\n",
    "    df.apply(process_row, axis=1)\n",
    "\n",
    "if __name__ == '__main__':\n",
    "    main()\n"
   ]
  }
 ],
 "metadata": {
  "kernelspec": {
   "display_name": "base",
   "language": "python",
   "name": "python3"
  },
  "language_info": {
   "codemirror_mode": {
    "name": "ipython",
    "version": 3
   },
   "file_extension": ".py",
   "mimetype": "text/x-python",
   "name": "python",
   "nbconvert_exporter": "python",
   "pygments_lexer": "ipython3",
   "version": "3.9.13"
  },
  "orig_nbformat": 4
 },
 "nbformat": 4,
 "nbformat_minor": 2
}
